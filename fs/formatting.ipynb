{
 "cells": [
  {
   "cell_type": "code",
   "execution_count": 41,
   "metadata": {
    "collapsed": true
   },
   "outputs": [],
   "source": [
    "import pandas as pd\n",
    "import numpy as np"
   ]
  },
  {
   "cell_type": "code",
   "execution_count": 96,
   "metadata": {
    "collapsed": false
   },
   "outputs": [],
   "source": [
    "train = pd.read_csv('../resources/KDD_10%_2class_preprocessed_normalized/train_10%_kdd_2class_preprocessed_normalized.csv')\n",
    "test = pd.read_csv('../resources/KDD_10%_2class_preprocessed_normalized/test_10%_kdd_2class_preprocessed_normalized.csv')"
   ]
  },
  {
   "cell_type": "code",
   "execution_count": 97,
   "metadata": {
    "collapsed": true
   },
   "outputs": [],
   "source": [
    "train_y = pd.DataFrame(train['41'])\n",
    "train_x = train.drop(['41'], axis=1)\n",
    "test_y = pd.DataFrame(test['41'])\n",
    "test_x = test.drop(['41'], axis=1)"
   ]
  },
  {
   "cell_type": "code",
   "execution_count": 99,
   "metadata": {
    "collapsed": false
   },
   "outputs": [],
   "source": [
    "high = np.array([ 1,  3,  7,  8,  9, 15, 22, 24, 25, 26, 28, 29, 34, 36, 38, 39, 40])"
   ]
  },
  {
   "cell_type": "code",
   "execution_count": 100,
   "metadata": {
    "collapsed": false
   },
   "outputs": [],
   "source": [
    "train_x = train_x.ix[:,high]\n",
    "test_x = test_x.ix[:,high]"
   ]
  },
  {
   "cell_type": "code",
   "execution_count": 101,
   "metadata": {
    "collapsed": true
   },
   "outputs": [],
   "source": [
    "train_x.to_csv('train_fs.csv', index=False)\n",
    "test_x.to_csv('test_fs.csv', index=False)\n",
    "train_y.to_csv('train_labels.csv', index=False)\n",
    "test_y.to_csv('test_labels.csv', index=False)"
   ]
  },
  {
   "cell_type": "code",
   "execution_count": null,
   "metadata": {
    "collapsed": true
   },
   "outputs": [],
   "source": []
  }
 ],
 "metadata": {
  "kernelspec": {
   "display_name": "Python 3",
   "language": "python",
   "name": "python3"
  },
  "language_info": {
   "codemirror_mode": {
    "name": "ipython",
    "version": 3
   },
   "file_extension": ".py",
   "mimetype": "text/x-python",
   "name": "python",
   "nbconvert_exporter": "python",
   "pygments_lexer": "ipython3",
   "version": "3.5.2"
  }
 },
 "nbformat": 4,
 "nbformat_minor": 0
}
