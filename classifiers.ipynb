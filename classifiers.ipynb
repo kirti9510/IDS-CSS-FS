{
 "cells": [
  {
   "cell_type": "code",
   "execution_count": 52,
   "metadata": {
    "cellView": "both",
    "colab": {
     "autoexec": {
      "startup": false,
      "wait_interval": 0
     }
    },
    "colab_type": "code",
    "collapsed": true,
    "id": "JLpLa8Jt7Vu4"
   },
   "outputs": [],
   "source": [
    "from sklearn.ensemble import AdaBoostClassifier\n",
    "import numpy as np\n",
    "from sklearn.metrics import accuracy_score, confusion_matrix, classification_report\n",
    "from sklearn.ensemble import RandomForestClassifier\n",
    "from sklearn.linear_model import LogisticRegression"
   ]
  },
  {
   "cell_type": "code",
   "execution_count": 53,
   "metadata": {
    "cellView": "both",
    "colab": {
     "autoexec": {
      "startup": false,
      "wait_interval": 0
     },
     "output_extras": [
      {
       "item_id": 1
      }
     ]
    },
    "colab_type": "code",
    "collapsed": false,
    "executionInfo": {
     "elapsed": 19456,
     "status": "ok",
     "timestamp": 1449847956073,
     "user": {
      "color": "",
      "displayName": "",
      "isAnonymous": false,
      "isMe": true,
      "permissionId": "",
      "photoUrl": "",
      "sessionId": "0",
      "userId": ""
     },
     "user_tz": 480
    },
    "id": "y3-cj1bpmuxc",
    "outputId": "0ddb1607-1fc4-4ddb-de28-6c7ab7fb0c33"
   },
   "outputs": [],
   "source": [
    "train_dataset = np.loadtxt(open('fs/train_fs.csv'), delimiter=',', dtype=np.float32, skiprows=1)\n",
    "train_labels = np.loadtxt(open('fs/train_labels.csv'), delimiter=',', dtype=np.float32, skiprows=1)\n",
    "test_dataset = np.loadtxt(open('fs/test_fs.csv'), delimiter=',', dtype=np.float32, skiprows=1)\n",
    "test_labels = np.loadtxt(open('fs/test_labels.csv'), delimiter=',', dtype=np.float32, skiprows=1)"
   ]
  },
  {
   "cell_type": "code",
   "execution_count": 58,
   "metadata": {
    "collapsed": false
   },
   "outputs": [
    {
     "name": "stdout",
     "output_type": "stream",
     "text": [
      "0.999002064694\n",
      "[[ 97086    191]\n",
      " [   302 396441]]\n",
      "             precision    recall  f1-score   support\n",
      "\n",
      "        0.0       1.00      1.00      1.00     97277\n",
      "        1.0       1.00      1.00      1.00    396743\n",
      "\n",
      "avg / total       1.00      1.00      1.00    494020\n",
      "\n",
      "0.921708013426\n",
      "[[ 59629    963]\n",
      " [ 23388 227048]]\n",
      "             precision    recall  f1-score   support\n",
      "\n",
      "        0.0       0.72      0.98      0.83     60592\n",
      "        1.0       1.00      0.91      0.95    250436\n",
      "\n",
      "avg / total       0.94      0.92      0.93    311028\n",
      "\n"
     ]
    }
   ],
   "source": [
    "clf = AdaBoostClassifier(n_estimators=120)\n",
    "clf.fit(train_dataset, train_labels)\n",
    "preds1 = clf.predict(train_dataset)\n",
    "print (accuracy_score(train_labels, preds1))\n",
    "print (confusion_matrix(train_labels, preds1))\n",
    "print (classification_report(train_labels, preds1))\n",
    "preds2 = clf.predict(test_dataset)\n",
    "print (accuracy_score(test_labels, preds2))\n",
    "print (confusion_matrix(test_labels, preds2))\n",
    "print (classification_report(test_labels, preds2))"
   ]
  },
  {
   "cell_type": "code",
   "execution_count": 55,
   "metadata": {
    "collapsed": false
   },
   "outputs": [
    {
     "name": "stdout",
     "output_type": "stream",
     "text": [
      "0.999277357192\n",
      "[[ 97269      8]\n",
      " [   349 396394]]\n",
      "             precision    recall  f1-score   support\n",
      "\n",
      "        0.0       1.00      1.00      1.00     97277\n",
      "        1.0       1.00      1.00      1.00    396743\n",
      "\n",
      "avg / total       1.00      1.00      1.00    494020\n",
      "\n",
      "0.923026222719\n",
      "[[ 60344    248]\n",
      " [ 23693 226743]]\n",
      "             precision    recall  f1-score   support\n",
      "\n",
      "        0.0       0.72      1.00      0.83     60592\n",
      "        1.0       1.00      0.91      0.95    250436\n",
      "\n",
      "avg / total       0.94      0.92      0.93    311028\n",
      "\n"
     ]
    }
   ],
   "source": [
    "clf = RandomForestClassifier(max_depth=7, n_estimators=200, n_jobs=4)\n",
    "clf.fit(train_dataset, train_labels)\n",
    "preds1 = clf.predict(train_dataset)\n",
    "print (accuracy_score(train_labels, preds1))\n",
    "print (confusion_matrix(train_labels, preds1))\n",
    "print (classification_report(train_labels, preds1))\n",
    "preds2 = clf.predict(test_dataset)\n",
    "print (accuracy_score(test_labels, preds2))\n",
    "print (confusion_matrix(test_labels, preds2))\n",
    "print (classification_report(test_labels, preds2))"
   ]
  },
  {
   "cell_type": "code",
   "execution_count": 57,
   "metadata": {
    "collapsed": false
   },
   "outputs": [
    {
     "name": "stdout",
     "output_type": "stream",
     "text": [
      "0.992352536335\n",
      "[[ 96160   1117]\n",
      " [  2661 394082]]\n",
      "             precision    recall  f1-score   support\n",
      "\n",
      "        0.0       0.97      0.99      0.98     97277\n",
      "        1.0       1.00      0.99      1.00    396743\n",
      "\n",
      "avg / total       0.99      0.99      0.99    494020\n",
      "\n",
      "0.919306300397\n",
      "[[ 59615    977]\n",
      " [ 24121 226315]]\n",
      "             precision    recall  f1-score   support\n",
      "\n",
      "        0.0       0.71      0.98      0.83     60592\n",
      "        1.0       1.00      0.90      0.95    250436\n",
      "\n",
      "avg / total       0.94      0.92      0.92    311028\n",
      "\n"
     ]
    }
   ],
   "source": [
    "clf = LogisticRegression(n_jobs=-1)\n",
    "clf.fit(train_dataset, train_labels)\n",
    "preds1 = clf.predict(train_dataset)\n",
    "print (accuracy_score(train_labels, preds1))\n",
    "print (confusion_matrix(train_labels, preds1))\n",
    "print (classification_report(train_labels, preds1))\n",
    "preds2 = clf.predict(test_dataset)\n",
    "print (accuracy_score(test_labels, preds2))\n",
    "print (confusion_matrix(test_labels, preds2))\n",
    "print (classification_report(test_labels, preds2))"
   ]
  },
  {
   "cell_type": "code",
   "execution_count": null,
   "metadata": {
    "collapsed": true
   },
   "outputs": [],
   "source": []
  }
 ],
 "metadata": {
  "colabVersion": "0.3.2",
  "colab_default_view": {},
  "colab_views": {},
  "kernelspec": {
   "display_name": "Python 3",
   "language": "python",
   "name": "python3"
  },
  "language_info": {
   "codemirror_mode": {
    "name": "ipython",
    "version": 3
   },
   "file_extension": ".py",
   "mimetype": "text/x-python",
   "name": "python",
   "nbconvert_exporter": "python",
   "pygments_lexer": "ipython3",
   "version": "3.5.2"
  }
 },
 "nbformat": 4,
 "nbformat_minor": 0
}
