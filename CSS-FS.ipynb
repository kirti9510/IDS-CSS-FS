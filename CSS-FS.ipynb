{
 "cells": [
  {
   "cell_type": "markdown",
   "metadata": {},
   "source": [
    "# Charged System Search based Feature Selection"
   ]
  },
  {
   "cell_type": "markdown",
   "metadata": {},
   "source": [
    "import dependencies"
   ]
  },
  {
   "cell_type": "code",
   "execution_count": 1,
   "metadata": {},
   "outputs": [],
   "source": [
    "import numpy as np\n",
    "import pandas as pd\n",
    "from sklearn.linear_model import LogisticRegression, LogisticRegressionCV\n",
    "from sklearn.metrics import accuracy_score\n",
    "from sklearn.model_selection import cross_val_score\n",
    "from sklearn.neighbors import DistanceMetric\n",
    "from sklearn.naive_bayes import GaussianNB\n",
    "import timeit"
   ]
  },
  {
   "cell_type": "markdown",
   "metadata": {},
   "source": [
    "load dataset and split into input and outputs"
   ]
  },
  {
   "cell_type": "code",
   "execution_count": 2,
   "metadata": {},
   "outputs": [],
   "source": [
    "train = pd.read_csv('resources/NSLKDD_2class_preprocessed_normalized/train_nslkdd_2class_preprocessed_normalized.csv')\n",
    "test = pd.read_csv('resources/NSLKDD_2class_preprocessed_normalized/test_nslkdd_2class_preprocessed_normalized.csv')"
   ]
  },
  {
   "cell_type": "code",
   "execution_count": 3,
   "metadata": {},
   "outputs": [
    {
     "data": {
      "text/plain": [
       "((125973, 42), (22544, 42))"
      ]
     },
     "execution_count": 3,
     "metadata": {},
     "output_type": "execute_result"
    }
   ],
   "source": [
    "train.shape, test.shape"
   ]
  },
  {
   "cell_type": "code",
   "execution_count": 5,
   "metadata": {},
   "outputs": [],
   "source": [
    "train_y = train['41']\n",
    "train_x = train.drop(['41'], axis=1)\n",
    "test_y = test['41']\n",
    "test_x = test.drop(['41'], axis=1)"
   ]
  },
  {
   "cell_type": "markdown",
   "metadata": {},
   "source": [
    "randomly initialise position for charged particles "
   ]
  },
  {
   "cell_type": "code",
   "execution_count": 6,
   "metadata": {},
   "outputs": [],
   "source": [
    "def init_particles(x):\n",
    "    return np.random.randint(0, 2, size=(x,41))"
   ]
  },
  {
   "cell_type": "markdown",
   "metadata": {},
   "source": [
    "initialise velocity for charged particles to 0"
   ]
  },
  {
   "cell_type": "code",
   "execution_count": 7,
   "metadata": {},
   "outputs": [],
   "source": [
    "def init_velocity(x):\n",
    "    return np.zeros((x, 41))"
   ]
  },
  {
   "cell_type": "markdown",
   "metadata": {},
   "source": [
    "calculate fitness value (charge) for each charged particles"
   ]
  },
  {
   "cell_type": "code",
   "execution_count": 8,
   "metadata": {},
   "outputs": [],
   "source": [
    "def fitness(accuracy):\n",
    "    charge = (accuracy - min(accuracy)) / (max(accuracy) - min(accuracy))\n",
    "    return charge"
   ]
  },
  {
   "cell_type": "code",
   "execution_count": 9,
   "metadata": {},
   "outputs": [],
   "source": [
    "def cv_accuracy(particles):\n",
    "    epsilon = 1e-6\n",
    "    accuracy = []\n",
    "    for particle in particles:\n",
    "        X = train_x.iloc[:, np.nonzero(particle)[0]]\n",
    "        clf = LogisticRegression(n_jobs=4, solver='lbfgs')\n",
    "        cv = cross_val_score(clf, X, train_y, cv=3, scoring='accuracy')\n",
    "        accuracy.append(cv.mean())\n",
    "    return np.array(accuracy)"
   ]
  },
  {
   "cell_type": "markdown",
   "metadata": {},
   "source": [
    "calculates distance between each CP"
   ]
  },
  {
   "cell_type": "code",
   "execution_count": 28,
   "metadata": {},
   "outputs": [],
   "source": [
    "def distance(CP, charge, num_bestCP):\n",
    "    dist = DistanceMetric.get_metric(\"hamming\")\n",
    "    good_CP = np.argsort(charge)[-num_bestCP:]\n",
    "    pair_dist = dist.pairwise(CP)\n",
    "    a = np.array\n",
    "    d = []\n",
    "    for i in good_CP:\n",
    "        a = np.logical_and(CP[i], CP).astype(int)\n",
    "        a = np.vstack((CP[good_CP[0]], a))\n",
    "        denom = dist.pairwise(a)[0, 1:] + 1e-16\n",
    "        num = pair_dist[i] + 1e-16\n",
    "        d.append(num/denom)\n",
    "    return np.array(d)"
   ]
  },
  {
   "cell_type": "code",
   "execution_count": 11,
   "metadata": {},
   "outputs": [],
   "source": [
    "def sigmoid(x):\n",
    "    return 1 / (1 + np.exp(-x))"
   ]
  },
  {
   "cell_type": "code",
   "execution_count": 39,
   "metadata": {
    "scrolled": false
   },
   "outputs": [
    {
     "name": "stdout",
     "output_type": "stream",
     "text": [
      "0.9525136448206544 23\n",
      "0.9525136448206544 23\n",
      "4  execution time:  84.07727108100153\n",
      "0.9529026284035838 22\n",
      "0.9529026284035838 22\n",
      "3  execution time:  84.32054090299971\n",
      "0.952481893308133 20\n",
      "0.9529026284035838 22\n",
      "3  execution time:  81.86356906299989\n",
      "0.9548077989378506 17\n",
      "0.9548077989378506 17\n",
      "2  execution time:  85.22759854500146\n",
      "0.9545220209568113 19\n",
      "0.9548077989378506 17\n",
      "2  execution time:  76.72583182600101\n",
      "0.954514081613521 21\n",
      "0.9548077989378506 17\n",
      "1  execution time:  87.3701890909997\n",
      "0.954514081613521 21\n",
      "0.9548077989378506 17\n",
      "1  execution time:  81.73273819400129\n",
      "0.954514081613521 21\n",
      "0.9548077989378506 17\n",
      "0  execution time:  81.71086582399948\n",
      "0.954514081613521 21\n",
      "0.9548077989378506 17\n",
      "0  execution time:  85.978559571\n"
     ]
    }
   ],
   "source": [
    "num_CP = 10\n",
    "num_itr = 10\n",
    "num_bestCP = 5\n",
    "num_worstCP = 1\n",
    "k_e = 0.1\n",
    "CM_accuracy = 0\n",
    "CP = init_particles(num_CP)\n",
    "v = init_velocity(num_CP)\n",
    "\n",
    "accuracy_matrix = []\n",
    "features_matrix = []\n",
    "\n",
    "for itr in range(num_itr):\n",
    "    if num_bestCP == 0:\n",
    "        break\n",
    "    start = timeit.default_timer()\n",
    "    accuracy = cv_accuracy(CP)\n",
    "    max_accuracy = np.amax(accuracy)\n",
    "    max_CP = CP[np.argmax(accuracy),:]\n",
    "    accuracy_matrix.append(accuracy)\n",
    "    features_matrix.append([np.count_nonzero(f) for f in CP])\n",
    "    if max_accuracy > CM_accuracy:\n",
    "        CM_accuracy = max_accuracy\n",
    "        CM = np.copy(max_CP)\n",
    "    print(max_accuracy, np.count_nonzero(max_CP))\n",
    "    print(CM_accuracy, np.count_nonzero(CM))\n",
    "    charge = fitness(accuracy)\n",
    "    dist = distance(CP, charge, num_bestCP)\n",
    "    best_charge = np.sort(charge)[-num_bestCP:]\n",
    "    force_out = best_charge / np.square(dist.T)\n",
    "    force_in = best_charge.T * dist.T\n",
    "    np.place(force_out, force_out==np.inf, 0.0)\n",
    "    np.place(force_in, force_in==np.inf, 0.0)\n",
    "    i1 = np.zeros((num_CP,num_bestCP))\n",
    "    i2 = np.zeros((num_CP,num_bestCP))\n",
    "    i1[dist.T<=1] = 1\n",
    "    i2[dist.T>1] = 1\n",
    "    best_CP = CP[np.argsort(charge)[-num_bestCP:]]\n",
    "    diff = []\n",
    "    for cp in best_CP:\n",
    "        diff.append(cp - CP)\n",
    "    diff = np.array(diff)\n",
    "    force = (i1*force_in) + (i2*force_out)\n",
    "    x = []\n",
    "    for i in range(num_bestCP):\n",
    "        x.append(force.T[i].reshape(-1,1) * diff[i])\n",
    "    x = np.array(x)\n",
    "    acceleration = charge.reshape(-1,1) * np.sum(x, axis = 0)\n",
    "    v = (np.random.random() * v) + acceleration\n",
    "    CP[sigmoid(v)>0.5] = 1\n",
    "    CP[sigmoid(v)<=0.5] = 0\n",
    "    CP[np.argsort(charge)[:num_worstCP]] = init_particles(num_worstCP)\n",
    "    if itr%2 == 0:\n",
    "        num_bestCP-=1\n",
    "    end = timeit.default_timer()\n",
    "    print(i,\" execution time: \", end - start)"
   ]
  },
  {
   "cell_type": "code",
   "execution_count": 40,
   "metadata": {},
   "outputs": [
    {
     "data": {
      "text/plain": [
       "(array([ 1,  2,  4,  7, 11, 12, 18, 19, 20, 24, 25, 26, 27, 28, 34, 37, 38]),)"
      ]
     },
     "execution_count": 40,
     "metadata": {},
     "output_type": "execute_result"
    }
   ],
   "source": [
    "np.nonzero(CM)"
   ]
  },
  {
   "cell_type": "code",
   "execution_count": 41,
   "metadata": {},
   "outputs": [],
   "source": [
    "high = np.nonzero(CM)[0]"
   ]
  },
  {
   "cell_type": "code",
   "execution_count": 47,
   "metadata": {},
   "outputs": [
    {
     "name": "stdout",
     "output_type": "stream",
     "text": [
      "0.7798527324343506\n",
      "[[8200 4633]\n",
      " [ 330 9381]]\n"
     ]
    }
   ],
   "source": [
    "log_reg = LogisticRegression(solver='lbfgs', max_iter=500)\n",
    "log_reg.fit(train_x.iloc[:,high], train_y)\n",
    "pred = log_reg.predict(test_x.iloc[:,high])\n",
    "from sklearn.metrics import accuracy_score, confusion_matrix\n",
    "print(accuracy_score(test_y, pred))\n",
    "print(str(confusion_matrix(test_y, pred)))"
   ]
  },
  {
   "cell_type": "code",
   "execution_count": 48,
   "metadata": {},
   "outputs": [],
   "source": [
    "features_matrix = np.array(features_matrix)"
   ]
  },
  {
   "cell_type": "code",
   "execution_count": 49,
   "metadata": {},
   "outputs": [
    {
     "data": {
      "text/plain": [
       "(array([0.92805602, 0.93343018, 0.95151343, 0.93267607, 0.95251364,\n",
       "        0.93486702, 0.89661279, 0.90397944, 0.94023326, 0.93239821]),\n",
       " array([18, 24, 26, 24, 23, 23, 16, 21, 22, 19]))"
      ]
     },
     "execution_count": 49,
     "metadata": {},
     "output_type": "execute_result"
    }
   ],
   "source": [
    "accuracy_matrix[0], features_matrix[0]"
   ]
  },
  {
   "cell_type": "code",
   "execution_count": 50,
   "metadata": {},
   "outputs": [],
   "source": [
    "import matplotlib.pyplot as plt\n",
    "%matplotlib inline"
   ]
  },
  {
   "cell_type": "code",
   "execution_count": 52,
   "metadata": {
    "scrolled": false
   },
   "outputs": [
    {
     "data": {
      "image/png": "[encoded data removed]",
      "text/plain": [
       "<Figure size 432x288 with 1 Axes>"
      ]
     },
     "metadata": {
      "needs_background": "light"
     },
     "output_type": "display_data"
    },
    {
     "data": {
      "image/png": "[encoded data removed]",
      "text/plain": [
       "<Figure size 432x288 with 1 Axes>"
      ]
     },
     "metadata": {
      "needs_background": "light"
     },
     "output_type": "display_data"
    },
    {
     "data": {
      "image/png": "[encoded data removed]",
      "text/plain": [
       "<Figure size 432x288 with 1 Axes>"
      ]
     },
     "metadata": {
      "needs_background": "light"
     },
     "output_type": "display_data"
    },
    {
     "data": {
      "image/png": "[encoded data removed]",
      "text/plain": [
       "<Figure size 432x288 with 1 Axes>"
      ]
     },
     "metadata": {
      "needs_background": "light"
     },
     "output_type": "display_data"
    },
    {
     "data": {
      "image/png": "[encoded data removed]",
      "text/plain": [
       "<Figure size 432x288 with 1 Axes>"
      ]
     },
     "metadata": {
      "needs_background": "light"
     },
     "output_type": "display_data"
    },
    {
     "data": {
      "image/png": "[encoded data removed]",
      "text/plain": [
       "<Figure size 432x288 with 1 Axes>"
      ]
     },
     "metadata": {
      "needs_background": "light"
     },
     "output_type": "display_data"
    },
    {
     "data": {
      "image/png": "[encoded data removed]",
      "text/plain": [
       "<Figure size 432x288 with 1 Axes>"
      ]
     },
     "metadata": {
      "needs_background": "light"
     },
     "output_type": "display_data"
    },
    {
     "data": {
      "image/png": "[encoded data removed]",
      "text/plain": [
       "<Figure size 432x288 with 1 Axes>"
      ]
     },
     "metadata": {
      "needs_background": "light"
     },
     "output_type": "display_data"
    },
    {
     "data": {
      "image/png": "[encoded data removed]",
      "text/plain": [
       "<Figure size 432x288 with 1 Axes>"
      ]
     },
     "metadata": {
      "needs_background": "light"
     },
     "output_type": "display_data"
    }
   ],
   "source": [
    "for i in range(num_itr):\n",
    "    plt.figure()\n",
    "    plt.scatter(accuracy_matrix[i], features_matrix[i])\n",
    "    plt.show()"
   ]
  },
  {
   "cell_type": "code",
   "execution_count": null,
   "metadata": {
    "collapsed": true
   },
   "outputs": [],
   "source": []
  }
 ],
 "metadata": {
  "kernelspec": {
   "display_name": "Python 3",
   "language": "python",
   "name": "python3"
  },
  "language_info": {
   "codemirror_mode": {
    "name": "ipython",
    "version": 3
   },
   "file_extension": ".py",
   "mimetype": "text/x-python",
   "name": "python",
   "nbconvert_exporter": "python",
   "pygments_lexer": "ipython3",
   "version": "3.6.7"
  }
 },
 "nbformat": 4,
 "nbformat_minor": 1
}
